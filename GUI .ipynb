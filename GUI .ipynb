{
 "cells": [
  {
   "cell_type": "code",
   "execution_count": 5,
   "id": "611aae83",
   "metadata": {},
   "outputs": [],
   "source": [
    "import os\n",
    "import PIL\n",
    "import cv2  \n",
    "import glob\n",
    "import numpy as np\n",
    "from tkinter import *\n",
    "from PIL import Image, ImageDraw, ImageGrab\n",
    "import tkinter as tk"
   ]
  },
  {
   "cell_type": "code",
   "execution_count": 6,
   "id": "d043f728",
   "metadata": {},
   "outputs": [
    {
     "name": "stdout",
     "output_type": "stream",
     "text": [
      "Model loaded successfully\n"
     ]
    }
   ],
   "source": [
    "from keras.models import load_model\n",
    "model = load_model('mnist.h5')\n",
    "print(\"Model loaded successfully\")"
   ]
  },
  {
   "cell_type": "code",
   "execution_count": 7,
   "id": "18bffdf1",
   "metadata": {},
   "outputs": [
    {
     "name": "stdout",
     "output_type": "stream",
     "text": [
      "1/1 [==============================] - 0s 190ms/step\n",
      "1/1 [==============================] - 0s 16ms/step\n",
      "1/1 [==============================] - 0s 16ms/step\n",
      "1/1 [==============================] - 0s 16ms/step\n",
      "1/1 [==============================] - 0s 16ms/step\n"
     ]
    }
   ],
   "source": [
    "def event_function(event):\n",
    "    \n",
    "    x=event.x\n",
    "    y=event.y\n",
    "    \n",
    "    x1=x-30\n",
    "    y1=y-30\n",
    "    \n",
    "    x2=x+30\n",
    "    y2=y+30\n",
    "\n",
    "    canvas.create_oval((x1,y1,x2,y2),fill='black')\n",
    "    img_draw.ellipse((x1,y1,x2,y2),fill='white')\n",
    "\n",
    "\n",
    "def clear():\n",
    "    \n",
    "    global img,img_draw\n",
    "    \n",
    "    canvas.delete('all')\n",
    "    img=Image.new('RGB',(500,500),(0,0,0))\n",
    "    img_draw=ImageDraw.Draw(img)    \n",
    "    \n",
    "    label_status.config(text='PREDICTED DIGIT: NONE')\n",
    "\n",
    "def predict():\n",
    "    \n",
    "    img_array=np.array(img)\n",
    "    img_array=cv2.cvtColor(img_array,cv2.COLOR_BGR2GRAY)\n",
    "    img_array=cv2.resize(img_array,(28,28))\n",
    "    \n",
    "    img_array=img_array/255.0\n",
    "    img_array=img_array.reshape(1,28,28)\n",
    "    result=model.predict(img_array)\n",
    "    label=np.argmax(result,axis=1)\n",
    "    \n",
    "    label_status.config(text='PREDICTED DIGIT:'+str(label))\n",
    "    \n",
    "count=0\n",
    "    \n",
    "win=tk.Tk()\n",
    "\n",
    "canvas=tk.Canvas(win,width=500,height=500,bg='white')\n",
    "canvas.grid(row=0,column=0,columnspan=4)\n",
    "\n",
    "#button_save=tk.Button(win,text='SAVE',bg='green',fg='white',font='Helvetica 20 bold',command=save)\n",
    "#button_save.grid(row=1,column=0)\n",
    "\n",
    "button_predict=tk.Button(win,text='PREDICT',bg='blue',fg='white',font='Helvetica 20 bold',command=predict)\n",
    "button_predict.grid(row=1,column=1)\n",
    "\n",
    "button_clear=tk.Button(win,text='CLEAR',bg='gray',fg='white',font='Helvetica 20 bold',command=clear)\n",
    "button_clear.grid(row=1,column=2)\n",
    "\n",
    "\n",
    "\n",
    "label_status=tk.Label(win,text='PREDICTED DIGIT: NONE',bg='white',font='Helvetica 24 bold')\n",
    "label_status.grid(row=2,column=0,columnspan=4)\n",
    "\n",
    "canvas.bind('<B1-Motion>',event_function)\n",
    "img=Image.new('RGB',(500,500),(0,0,0))\n",
    "img_draw=ImageDraw.Draw(img)\n",
    "\n",
    "win.mainloop()\n"
   ]
  },
  {
   "cell_type": "code",
   "execution_count": null,
   "id": "75c1c2dd",
   "metadata": {},
   "outputs": [],
   "source": []
  },
  {
   "cell_type": "code",
   "execution_count": null,
   "id": "c04abf2e",
   "metadata": {},
   "outputs": [],
   "source": []
  },
  {
   "cell_type": "code",
   "execution_count": null,
   "id": "85f6a57a",
   "metadata": {},
   "outputs": [],
   "source": []
  }
 ],
 "metadata": {
  "kernelspec": {
   "display_name": "Python 3 (ipykernel)",
   "language": "python",
   "name": "python3"
  },
  "language_info": {
   "codemirror_mode": {
    "name": "ipython",
    "version": 3
   },
   "file_extension": ".py",
   "mimetype": "text/x-python",
   "name": "python",
   "nbconvert_exporter": "python",
   "pygments_lexer": "ipython3",
   "version": "3.9.13"
  }
 },
 "nbformat": 4,
 "nbformat_minor": 5
}
